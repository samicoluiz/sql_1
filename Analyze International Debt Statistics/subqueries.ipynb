{
 "cells": [
  {
   "cell_type": "markdown",
   "metadata": {},
   "source": [
    "## Subqueries"
   ]
  },
  {
   "cell_type": "code",
   "execution_count": null,
   "metadata": {
    "vscode": {
     "languageId": "plaintext"
    }
   },
   "outputs": [],
   "source": [
    "SELECT DISTINCT name\n",
    "FROM languages\n",
    "-- Add syntax to use bracketed subquery below as a filter\n",
    "WHERE code IN\n",
    "    (SELECT code\n",
    "    FROM countries\n",
    "    WHERE region = 'Middle East')\n",
    "ORDER BY name;"
   ]
  },
  {
   "cell_type": "code",
   "execution_count": null,
   "metadata": {
    "vscode": {
     "languageId": "plaintext"
    }
   },
   "outputs": [],
   "source": [
    "SELECT *\n",
    "FROM populations\n",
    "-- Filter for only those populations where life expectancy is 1.15 times higher than average\n",
    "WHERE life_expectancy > 1.15 * \n",
    "  (SELECT AVG(life_expectancy)\n",
    "   FROM populations\n",
    "   WHERE year = 2015) \n",
    "    AND year = 2015;"
   ]
  },
  {
   "cell_type": "code",
   "execution_count": null,
   "metadata": {
    "vscode": {
     "languageId": "plaintext"
    }
   },
   "outputs": [],
   "source": [
    "-- Select relevant fields from cities table\n",
    "SELECT name, country_code, urbanarea_pop\n",
    "FROM cities\n",
    "-- Filter using a subquery on the countries table\n",
    "WHERE name IN (\n",
    "    SELECT capital\n",
    "    FROM countries\n",
    ")\n",
    "ORDER BY urbanarea_pop DESC;"
   ]
  },
  {
   "cell_type": "markdown",
   "metadata": {},
   "source": [
    "### Resultados equivalentes:"
   ]
  },
  {
   "cell_type": "code",
   "execution_count": null,
   "metadata": {
    "vscode": {
     "languageId": "plaintext"
    }
   },
   "outputs": [],
   "source": [
    "-- Find top nine countries with the most cities\n",
    "SELECT countries.name AS country, COUNT(country_code) AS cities_num\n",
    "FROM countries\n",
    "LEFT JOIN cities\n",
    "ON countries.code = cities.country_code\n",
    "-- Order by count of cities as cities_num\n",
    "GROUP BY country\n",
    "ORDER BY cities_num DESC, country ASC\n",
    "LIMIT 9;\n",
    "\n",
    "================================================\n",
    "\n",
    "SELECT countries.name AS country,\n",
    "-- Subquery that provides the count of cities   \n",
    "  (SELECT COUNT(country_code)\n",
    "   FROM cities\n",
    "   WHERE country_code = countries.code) AS cities_num\n",
    "FROM countries\n",
    "ORDER BY cities_num DESC, country\n",
    "LIMIT 9;\n"
   ]
  },
  {
   "cell_type": "markdown",
   "metadata": {},
   "source": [
    "### Subquery inside FROM"
   ]
  },
  {
   "cell_type": "code",
   "execution_count": null,
   "metadata": {
    "vscode": {
     "languageId": "plaintext"
    }
   },
   "outputs": [],
   "source": [
    "-- Select local_name and lang_num from appropriate tables\n",
    "SELECT local_name, sub.lang_num\n",
    "FROM countries,\n",
    "  (SELECT code, COUNT(*) AS lang_num\n",
    "  FROM languages\n",
    "  GROUP BY code) AS sub\n",
    "-- Where codes match\n",
    "WHERE countries.code = sub.code\n",
    "ORDER BY lang_num DESC;"
   ]
  },
  {
   "cell_type": "code",
   "execution_count": null,
   "metadata": {
    "vscode": {
     "languageId": "plaintext"
    }
   },
   "outputs": [],
   "source": [
    "-- Select relevant fields\n",
    "SELECT code, inflation_rate, unemployment_rate\n",
    "FROM economies\n",
    "WHERE year = 2015 \n",
    "  AND code NOT IN\n",
    "-- Subquery returning country codes filtered on gov_form\n",
    "\t(SELECT code\n",
    "  FROM countries\n",
    "  WHERE gov_form NOT IN ('Republic', 'Monarchy')\n",
    "    AND countries.code = economies.code)\n",
    "ORDER BY inflation_rate;"
   ]
  },
  {
   "cell_type": "code",
   "execution_count": null,
   "metadata": {
    "vscode": {
     "languageId": "plaintext"
    }
   },
   "outputs": [],
   "source": [
    "-- Select relevant fields\n",
    "SELECT code, inflation_rate, unemployment_rate\n",
    "FROM economies\n",
    "WHERE year = 2015 \n",
    "  AND code NOT IN\n",
    "-- Subquery returning country codes filtered on gov_form\n",
    "    (SELECT code\n",
    "     FROM countries\n",
    "     WHERE (gov_form LIKE '%Monarchy%' OR gov_form LIKE '%Republic%'))\n",
    "ORDER BY inflation_rate;"
   ]
  },
  {
   "cell_type": "code",
   "execution_count": null,
   "metadata": {
    "vscode": {
     "languageId": "plaintext"
    }
   },
   "outputs": [],
   "source": [
    "-- Select fields from cities\n",
    "SELECT name,\n",
    "    country_code,\n",
    "    city_proper_pop, \n",
    "    metroarea_pop,\n",
    "    city_proper_pop/metroarea_pop * 100 AS city_perc\n",
    "FROM cities\n",
    "-- Use subquery to filter city name\n",
    "WHERE name IN (\n",
    "    SELECT capital\n",
    "    FROM countries\n",
    "    WHERE (continent LIKE '%America'\n",
    "        OR continent = 'Europe')\n",
    "    AND countries.capital = cities.name\n",
    ")\n",
    "-- Add filter condition such that metroarea_pop does not have null values\n",
    "AND metroarea_pop IS NOT NULL\n",
    "-- Sort and limit the result\n",
    "ORDER BY city_perc DESC\n",
    "LIMIT 10;"
   ]
  }
 ],
 "metadata": {
  "language_info": {
   "name": "python"
  },
  "orig_nbformat": 4
 },
 "nbformat": 4,
 "nbformat_minor": 2
}
