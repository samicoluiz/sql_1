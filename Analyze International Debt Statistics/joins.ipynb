{
 "cells": [
  {
   "cell_type": "markdown",
   "metadata": {},
   "source": [
    "## Left/Right Join"
   ]
  },
  {
   "cell_type": "code",
   "execution_count": null,
   "metadata": {
    "vscode": {
     "languageId": "plaintext"
    }
   },
   "outputs": [],
   "source": [
    "SELECT \n",
    "    c1.name AS city,\n",
    "    code,\n",
    "    c2.name AS country,\n",
    "    region,\n",
    "    city_proper_pop\n",
    "FROM cities AS c1\n",
    "INNER JOIN countries AS c2\n",
    "ON c2.code = c1.country_code\n",
    "ORDER BY code DESC;"
   ]
  },
  {
   "cell_type": "code",
   "execution_count": null,
   "metadata": {
    "vscode": {
     "languageId": "plaintext"
    }
   },
   "outputs": [],
   "source": [
    "SELECT \n",
    "\tc1.name AS city, \n",
    "    code, \n",
    "    c2.name AS country,\n",
    "    region, \n",
    "    city_proper_pop\n",
    "FROM cities AS c1\n",
    "LEFT JOIN countries AS c2\n",
    "ON c1.country_code = c2.code\n",
    "ORDER BY code DESC;"
   ]
  },
  {
   "cell_type": "code",
   "execution_count": null,
   "metadata": {
    "vscode": {
     "languageId": "plaintext"
    }
   },
   "outputs": [],
   "source": [
    "-- Select region, and average gdp_percapita as avg_gdp\n",
    "SELECT region, AVG(gdp_percapita) AS avg_gdp\n",
    "FROM countries AS c\n",
    "LEFT JOIN economies AS e\n",
    "USING(code)\n",
    "WHERE year = 2010\n",
    "-- Group by region\n",
    "GROUP BY c.region;"
   ]
  },
  {
   "cell_type": "code",
   "execution_count": null,
   "metadata": {
    "vscode": {
     "languageId": "plaintext"
    }
   },
   "outputs": [],
   "source": [
    "SELECT region, AVG(gdp_percapita) AS avg_gdp\n",
    "FROM countries AS c\n",
    "LEFT JOIN economies AS e\n",
    "USING(code)\n",
    "WHERE year = 2010\n",
    "GROUP BY region\n",
    "-- Order by descending avg_gdp\n",
    "ORDER BY avg_gdp DESC\n",
    "-- Return only first 10 records\n",
    "LIMIT 10;"
   ]
  },
  {
   "cell_type": "markdown",
   "metadata": {},
   "source": [
    "## Full Join"
   ]
  },
  {
   "cell_type": "code",
   "execution_count": null,
   "metadata": {
    "vscode": {
     "languageId": "plaintext"
    }
   },
   "outputs": [],
   "source": [
    "SELECT name AS country, code, region, basic_unit\n",
    "FROM countries\n",
    "-- Join to currencies\n",
    "FULL JOIN currencies \n",
    "USING (code)\n",
    "-- Where region is North America or name is null\n",
    "WHERE region = 'North America'\n",
    "    OR name IS NULL\n",
    "ORDER BY region;"
   ]
  },
  {
   "cell_type": "code",
   "execution_count": null,
   "metadata": {
    "vscode": {
     "languageId": "plaintext"
    }
   },
   "outputs": [],
   "source": [
    "SELECT \n",
    "\tc1.name AS country, \n",
    "    region, \n",
    "    l.name AS language,\n",
    "\tbasic_unit, \n",
    "    frac_unit\n",
    "FROM countries AS c1\n",
    "-- Full join with languages (alias as l)\n",
    "FULL JOIN languages AS l\n",
    "USING(code)\n",
    "-- Full join with currencies (alias as c2)\n",
    "FULL JOIN currencies AS c2\n",
    "USING(code)\n",
    "WHERE region LIKE 'M%esia';"
   ]
  },
  {
   "cell_type": "markdown",
   "metadata": {},
   "source": [
    "## Cross Join"
   ]
  },
  {
   "cell_type": "code",
   "execution_count": null,
   "metadata": {
    "vscode": {
     "languageId": "plaintext"
    }
   },
   "outputs": [],
   "source": [
    "SELECT c.name AS country, l.name AS language\n",
    "FROM countries AS c        \n",
    "-- Perform a cross join to languages (alias as l)\n",
    "CROSS JOIN languages AS l\n",
    "WHERE c.code in ('PAK','IND')\n",
    "\tAND l.code in ('PAK','IND');"
   ]
  },
  {
   "cell_type": "markdown",
   "metadata": {},
   "source": [
    "## Self Join"
   ]
  },
  {
   "cell_type": "code",
   "execution_count": null,
   "metadata": {
    "vscode": {
     "languageId": "plaintext"
    }
   },
   "outputs": [],
   "source": [
    "SELECT \n",
    "\tp1.country_code, \n",
    "    p1.size AS size2010, \n",
    "    p2.size AS size2015\n",
    "FROM populations AS p1\n",
    "INNER JOIN populations AS p2\n",
    "ON p1.country_code = p2.country_code\n",
    "WHERE p1.year = 2010\n",
    "-- Filter such that p1.year is always five years before p2.year\n",
    "    AND p1.year = p2.year - 5;"
   ]
  }
 ],
 "metadata": {
  "language_info": {
   "name": "python"
  },
  "orig_nbformat": 4
 },
 "nbformat": 4,
 "nbformat_minor": 2
}
